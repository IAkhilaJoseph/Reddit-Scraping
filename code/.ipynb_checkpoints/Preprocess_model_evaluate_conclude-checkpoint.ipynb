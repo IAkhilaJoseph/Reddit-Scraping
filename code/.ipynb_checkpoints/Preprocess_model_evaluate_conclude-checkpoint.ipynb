{
 "cells": [
  {
   "cell_type": "markdown",
   "metadata": {},
   "source": [
    "# Project 3 - Web APIs & Classification "
   ]
  },
  {
   "cell_type": "markdown",
   "metadata": {},
   "source": [
    "## Table of Contents\n",
    "\n",
    "### 1) Preprocessing, Modelling & Evaluation\n",
    "### 2) Data Analysis post modelling\n",
    "### 3) Conclusions\n",
    "### 4) Limitations and Recommendations"
   ]
  },
  {
   "cell_type": "code",
   "execution_count": 1,
   "metadata": {},
   "outputs": [
    {
     "name": "stderr",
     "output_type": "stream",
     "text": [
      "/Users/akhilajoseph/opt/anaconda3/lib/python3.7/site-packages/statsmodels/tools/_testing.py:19: FutureWarning: pandas.util.testing is deprecated. Use the functions in the public API at pandas.testing instead.\n",
      "  import pandas.util.testing as tm\n"
     ]
    }
   ],
   "source": [
    "# installations\n",
    "# !pip install wordcloud\n",
    "\n",
    "# imports\n",
    "import requests\n",
    "import time\n",
    "import pandas as pd\n",
    "import regex as re\n",
    "import numpy as np\n",
    "import random\n",
    "import matplotlib.pyplot as plt\n",
    "import seaborn as sns\n",
    "\n",
    "from nltk.corpus import stopwords\n",
    "from nltk.stem import WordNetLemmatizer\n",
    "from bs4 import BeautifulSoup\n",
    "from wordcloud import WordCloud\n",
    "from sklearn.model_selection import train_test_split, GridSearchCV\n",
    "from sklearn.feature_extraction.text import CountVectorizer, TfidfVectorizer\n",
    "from sklearn.pipeline import Pipeline\n",
    "from sklearn.model_selection import train_test_split, GridSearchCV\n",
    "from sklearn.linear_model import LogisticRegression\n",
    "from sklearn.neighbors import KNeighborsClassifier\n",
    "from sklearn.metrics import roc_curve,roc_auc_score, auc, classification_report, accuracy_score, confusion_matrix\n",
    "from sklearn.naive_bayes import MultinomialNB\n",
    "\n",
    "%matplotlib inline"
   ]
  },
  {
   "cell_type": "markdown",
   "metadata": {},
   "source": [
    "### Load data"
   ]
  },
  {
   "cell_type": "code",
   "execution_count": 3,
   "metadata": {
    "scrolled": false
   },
   "outputs": [
    {
     "data": {
      "text/html": [
       "<div>\n",
       "<style scoped>\n",
       "    .dataframe tbody tr th:only-of-type {\n",
       "        vertical-align: middle;\n",
       "    }\n",
       "\n",
       "    .dataframe tbody tr th {\n",
       "        vertical-align: top;\n",
       "    }\n",
       "\n",
       "    .dataframe thead th {\n",
       "        text-align: right;\n",
       "    }\n",
       "</style>\n",
       "<table border=\"1\" class=\"dataframe\">\n",
       "  <thead>\n",
       "    <tr style=\"text-align: right;\">\n",
       "      <th></th>\n",
       "      <th>subreddit</th>\n",
       "      <th>selftext</th>\n",
       "      <th>author_fullname</th>\n",
       "      <th>title</th>\n",
       "      <th>name</th>\n",
       "      <th>author</th>\n",
       "      <th>num_comments</th>\n",
       "      <th>whitelist_status</th>\n",
       "      <th>body</th>\n",
       "      <th>heading</th>\n",
       "      <th>target</th>\n",
       "      <th>feature_var</th>\n",
       "    </tr>\n",
       "  </thead>\n",
       "  <tbody>\n",
       "    <tr>\n",
       "      <th>0</th>\n",
       "      <td>nosleep</td>\n",
       "      <td>I live in the Philippines, and it was half pas...</td>\n",
       "      <td>t2_5w7fs5ns</td>\n",
       "      <td>It's been 4 hours since the school's lockdown,...</td>\n",
       "      <td>t3_fgar9h</td>\n",
       "      <td>KatsukiBakugou2k</td>\n",
       "      <td>34</td>\n",
       "      <td>all_ads</td>\n",
       "      <td>live philippine wa half past normally falling ...</td>\n",
       "      <td>hour since school lockdown think teacher outsi...</td>\n",
       "      <td>0</td>\n",
       "      <td>hour since school lockdown think teacher outsi...</td>\n",
       "    </tr>\n",
       "    <tr>\n",
       "      <th>1</th>\n",
       "      <td>nosleep</td>\n",
       "      <td>Link for part 1: https://redd.it/fflyqp\\n\\n\\nH...</td>\n",
       "      <td>t2_4wglcouj</td>\n",
       "      <td>I started a new job as a overnight security gu...</td>\n",
       "      <td>t3_fg58z1</td>\n",
       "      <td>Mr_Mojo_Risin95</td>\n",
       "      <td>63</td>\n",
       "      <td>all_ads</td>\n",
       "      <td>link part http redd fflyqp hello thank concern...</td>\n",
       "      <td>started new job overnight security guard priva...</td>\n",
       "      <td>0</td>\n",
       "      <td>started new job overnight security guard priva...</td>\n",
       "    </tr>\n",
       "    <tr>\n",
       "      <th>2</th>\n",
       "      <td>nosleep</td>\n",
       "      <td>I used to work as a security guard at the mall...</td>\n",
       "      <td>t2_3pdh0fhd</td>\n",
       "      <td>Don’t look at a mall’s overnight security cameras</td>\n",
       "      <td>t3_fg6uxz</td>\n",
       "      <td>Champion_of_Bear</td>\n",
       "      <td>36</td>\n",
       "      <td>all_ads</td>\n",
       "      <td>used work security guard mall mile away house ...</td>\n",
       "      <td>look mall overnight security camera</td>\n",
       "      <td>0</td>\n",
       "      <td>look mall overnight security camera used work ...</td>\n",
       "    </tr>\n",
       "    <tr>\n",
       "      <th>3</th>\n",
       "      <td>nosleep</td>\n",
       "      <td>My parents told me growing up that I’m a pure ...</td>\n",
       "      <td>t2_3u1z9g99</td>\n",
       "      <td>The biggest regret of my life is taking the An...</td>\n",
       "      <td>t3_ffvodz</td>\n",
       "      <td>spookyChorror</td>\n",
       "      <td>213</td>\n",
       "      <td>all_ads</td>\n",
       "      <td>parent told growing pure bred german however r...</td>\n",
       "      <td>biggest regret life taking ancestry dna test</td>\n",
       "      <td>0</td>\n",
       "      <td>biggest regret life taking ancestry dna test p...</td>\n",
       "    </tr>\n",
       "    <tr>\n",
       "      <th>4</th>\n",
       "      <td>nosleep</td>\n",
       "      <td>She lived about two houses to our left. Her na...</td>\n",
       "      <td>t2_2n6an3ta</td>\n",
       "      <td>The neighbor who was obsessed with my dog</td>\n",
       "      <td>t3_fgcb3g</td>\n",
       "      <td>sawahhhhh</td>\n",
       "      <td>7</td>\n",
       "      <td>all_ads</td>\n",
       "      <td>lived two house left name wa debra wa plump la...</td>\n",
       "      <td>neighbor wa obsessed dog</td>\n",
       "      <td>0</td>\n",
       "      <td>neighbor wa obsessed dog lived two house left ...</td>\n",
       "    </tr>\n",
       "  </tbody>\n",
       "</table>\n",
       "</div>"
      ],
      "text/plain": [
       "  subreddit                                           selftext  \\\n",
       "0   nosleep  I live in the Philippines, and it was half pas...   \n",
       "1   nosleep  Link for part 1: https://redd.it/fflyqp\\n\\n\\nH...   \n",
       "2   nosleep  I used to work as a security guard at the mall...   \n",
       "3   nosleep  My parents told me growing up that I’m a pure ...   \n",
       "4   nosleep  She lived about two houses to our left. Her na...   \n",
       "\n",
       "  author_fullname                                              title  \\\n",
       "0     t2_5w7fs5ns  It's been 4 hours since the school's lockdown,...   \n",
       "1     t2_4wglcouj  I started a new job as a overnight security gu...   \n",
       "2     t2_3pdh0fhd  Don’t look at a mall’s overnight security cameras   \n",
       "3     t2_3u1z9g99  The biggest regret of my life is taking the An...   \n",
       "4     t2_2n6an3ta          The neighbor who was obsessed with my dog   \n",
       "\n",
       "        name            author  num_comments whitelist_status  \\\n",
       "0  t3_fgar9h  KatsukiBakugou2k            34          all_ads   \n",
       "1  t3_fg58z1   Mr_Mojo_Risin95            63          all_ads   \n",
       "2  t3_fg6uxz  Champion_of_Bear            36          all_ads   \n",
       "3  t3_ffvodz     spookyChorror           213          all_ads   \n",
       "4  t3_fgcb3g         sawahhhhh             7          all_ads   \n",
       "\n",
       "                                                body  \\\n",
       "0  live philippine wa half past normally falling ...   \n",
       "1  link part http redd fflyqp hello thank concern...   \n",
       "2  used work security guard mall mile away house ...   \n",
       "3  parent told growing pure bred german however r...   \n",
       "4  lived two house left name wa debra wa plump la...   \n",
       "\n",
       "                                             heading  target  \\\n",
       "0  hour since school lockdown think teacher outsi...       0   \n",
       "1  started new job overnight security guard priva...       0   \n",
       "2                look mall overnight security camera       0   \n",
       "3       biggest regret life taking ancestry dna test       0   \n",
       "4                           neighbor wa obsessed dog       0   \n",
       "\n",
       "                                         feature_var  \n",
       "0  hour since school lockdown think teacher outsi...  \n",
       "1  started new job overnight security guard priva...  \n",
       "2  look mall overnight security camera used work ...  \n",
       "3  biggest regret life taking ancestry dna test p...  \n",
       "4  neighbor wa obsessed dog lived two house left ...  "
      ]
     },
     "execution_count": 3,
     "metadata": {},
     "output_type": "execute_result"
    }
   ],
   "source": [
    "# extracting the cleaned and engineered csv file to df\n",
    "finaldf = pd.read_csv('../data/combined.csv')\n",
    "finaldf.head()"
   ]
  },
  {
   "cell_type": "markdown",
   "metadata": {},
   "source": [
    "#### Check summary statistics to see if df is ready to model. Noted null values in heading column. Ignoring it for now as we combined heading and body columns to form feature variable column that will be used for modelling."
   ]
  },
  {
   "cell_type": "code",
   "execution_count": 3,
   "metadata": {
    "scrolled": true
   },
   "outputs": [
    {
     "name": "stdout",
     "output_type": "stream",
     "text": [
      "<class 'pandas.core.frame.DataFrame'>\n",
      "RangeIndex: 1882 entries, 0 to 1881\n",
      "Data columns (total 12 columns):\n",
      " #   Column            Non-Null Count  Dtype \n",
      "---  ------            --------------  ----- \n",
      " 0   subreddit         1882 non-null   object\n",
      " 1   selftext          1882 non-null   object\n",
      " 2   author_fullname   1860 non-null   object\n",
      " 3   title             1882 non-null   object\n",
      " 4   name              1882 non-null   object\n",
      " 5   author            1882 non-null   object\n",
      " 6   num_comments      1882 non-null   int64 \n",
      " 7   whitelist_status  1882 non-null   object\n",
      " 8   body              1882 non-null   object\n",
      " 9   heading           1866 non-null   object\n",
      " 10  target            1882 non-null   int64 \n",
      " 11  feature_var       1882 non-null   object\n",
      "dtypes: int64(2), object(10)\n",
      "memory usage: 176.6+ KB\n"
     ]
    }
   ],
   "source": [
    "finaldf.info()"
   ]
  },
  {
   "cell_type": "markdown",
   "metadata": {},
   "source": [
    "## Preprocessing, Modeling & Evaluation\n",
    "\n",
    "### Preprocessing\n",
    "    1) Inspect Baseline Score\n",
    "    2) Performed Train-Test-Split   \n",
    "    \n",
    "### Modeling\n",
    "    1) Worked with 2 classification models - Naive Bayes and Logistic Regression coupled them with Count Vectorizer and TD-IDF Vectorizer\n",
    "    2) Employed Pipeline and Grid Search for all combinations of Vectorizers and Model\n",
    "            - To tune hyperparameters for both vectorizers and models\n",
    "            - Identify best score and best parameters for each of the model combinations\n",
    "            - Fit the train data \n",
    "            - Score both train and test data to see model performance\n",
    "            \n",
    "### Evaluation & Selection\n",
    "    1) Getting back to the problem statement, Accuracy metric is a good metrics as classifying the posts wrongly to a subreddit doesn't have a significant impact to the problem we are addressing. \n",
    "    2) Thus the preliminary basis of model selection is Accuracy metric and TD-IDF with Logistic Regression (LR) scored the best for Accuracy on unseen/test data. \n",
    "    3) The variance between training score and test score is also lower for TD-IDF with LR model. \n",
    "    4) However, when Accuracy is used as a metric to evaluate models, the following criteria have to be met. \n",
    "            a) Datasets are symmetric.  \n",
    "            b) The values of false positive and false negatives should be almost the same. The false \n",
    "            predictions (both negative and positive) are almost the same for logistic regression with \n",
    "            count vectorizer but not for logistic regression with TD-IDF.\n",
    "            \n",
    "**Thus the model selected is Logistic Regression with Count Vectorizer.**\n",
    "\n",
    "***While the model selection is primarily based on Accuracy scores, confusion matrix and ROC-AUC scores were also examined for each of the model combinations to ensure these scores of the model selected doesn't vary significantly with scores of other models.*** "
   ]
  },
  {
   "cell_type": "markdown",
   "metadata": {},
   "source": [
    "#### Baseline Score - shows the datasets are fairly symmetric "
   ]
  },
  {
   "cell_type": "code",
   "execution_count": 4,
   "metadata": {},
   "outputs": [
    {
     "data": {
      "text/html": [
       "<div>\n",
       "<style scoped>\n",
       "    .dataframe tbody tr th:only-of-type {\n",
       "        vertical-align: middle;\n",
       "    }\n",
       "\n",
       "    .dataframe tbody tr th {\n",
       "        vertical-align: top;\n",
       "    }\n",
       "\n",
       "    .dataframe thead th {\n",
       "        text-align: right;\n",
       "    }\n",
       "</style>\n",
       "<table border=\"1\" class=\"dataframe\">\n",
       "  <thead>\n",
       "    <tr style=\"text-align: right;\">\n",
       "      <th></th>\n",
       "      <th>0</th>\n",
       "      <th>1</th>\n",
       "    </tr>\n",
       "  </thead>\n",
       "  <tbody>\n",
       "    <tr>\n",
       "      <th>target</th>\n",
       "      <td>0.504782</td>\n",
       "      <td>0.495218</td>\n",
       "    </tr>\n",
       "  </tbody>\n",
       "</table>\n",
       "</div>"
      ],
      "text/plain": [
       "               0         1\n",
       "target  0.504782  0.495218"
      ]
     },
     "execution_count": 4,
     "metadata": {},
     "output_type": "execute_result"
    }
   ],
   "source": [
    "# baseline accuracy\n",
    "finaldf.target.value_counts(normalize = True).to_frame().T"
   ]
  },
  {
   "cell_type": "markdown",
   "metadata": {},
   "source": [
    "#### Train, Test , Split"
   ]
  },
  {
   "cell_type": "code",
   "execution_count": 5,
   "metadata": {},
   "outputs": [],
   "source": [
    "X = finaldf.feature_var\n",
    "y = finaldf.target\n",
    "\n",
    "X_train, X_test, y_train, y_test = train_test_split(X, y, stratify=y, random_state=42)"
   ]
  },
  {
   "cell_type": "markdown",
   "metadata": {},
   "source": [
    "#### Logistic Regression with Count Vectorizer"
   ]
  },
  {
   "cell_type": "code",
   "execution_count": 6,
   "metadata": {},
   "outputs": [],
   "source": [
    "pipe1 = Pipeline([\n",
    "    (\"cvec\", CountVectorizer(stop_words = 'english')),\n",
    "    (\"lr\", LogisticRegression())\n",
    "    ])"
   ]
  },
  {
   "cell_type": "markdown",
   "metadata": {},
   "source": [
    "#### Tried repeated tuning for hyperparameters for CVEC and logstic regression and found results to be positive with lesser variance in scores between training set and testing set. "
   ]
  },
  {
   "cell_type": "code",
   "execution_count": 7,
   "metadata": {},
   "outputs": [
    {
     "name": "stdout",
     "output_type": "stream",
     "text": [
      "Fitting 3 folds for each of 108 candidates, totalling 324 fits\n"
     ]
    },
    {
     "name": "stderr",
     "output_type": "stream",
     "text": [
      "[Parallel(n_jobs=-1)]: Using backend LokyBackend with 4 concurrent workers.\n",
      "[Parallel(n_jobs=-1)]: Done  42 tasks      | elapsed:   49.7s\n",
      "[Parallel(n_jobs=-1)]: Done 192 tasks      | elapsed:  3.2min\n",
      "[Parallel(n_jobs=-1)]: Done 324 out of 324 | elapsed:  5.7min finished\n",
      "/Users/akhilajoseph/opt/anaconda3/lib/python3.7/site-packages/sklearn/linear_model/logistic.py:432: FutureWarning: Default solver will be changed to 'lbfgs' in 0.22. Specify a solver to silence this warning.\n",
      "  FutureWarning)\n"
     ]
    },
    {
     "data": {
      "text/plain": [
       "GridSearchCV(cv=3, error_score='raise-deprecating',\n",
       "             estimator=Pipeline(memory=None,\n",
       "                                steps=[('cvec',\n",
       "                                        CountVectorizer(analyzer='word',\n",
       "                                                        binary=False,\n",
       "                                                        decode_error='strict',\n",
       "                                                        dtype=<class 'numpy.int64'>,\n",
       "                                                        encoding='utf-8',\n",
       "                                                        input='content',\n",
       "                                                        lowercase=True,\n",
       "                                                        max_df=1.0,\n",
       "                                                        max_features=None,\n",
       "                                                        min_df=1,\n",
       "                                                        ngram_range=(1, 1),\n",
       "                                                        preprocessor=None,\n",
       "                                                        stop_words='english',\n",
       "                                                        strip_accents=Non...\n",
       "                                                           random_state=None,\n",
       "                                                           solver='warn',\n",
       "                                                           tol=0.0001,\n",
       "                                                           verbose=0,\n",
       "                                                           warm_start=False))],\n",
       "                                verbose=False),\n",
       "             iid='warn', n_jobs=-1,\n",
       "             param_grid={'cvec__max_df': [0.2, 0.5, 0.8],\n",
       "                         'cvec__max_features': [1500, 2000, 2500],\n",
       "                         'cvec__min_df': [2, 3],\n",
       "                         'cvec__ngram_range': [(1, 1), (1, 2)],\n",
       "                         'lr__C': [0.1, 1, 10], 'lr__penalty': ['l2']},\n",
       "             pre_dispatch='2*n_jobs', refit=True, return_train_score=False,\n",
       "             scoring=None, verbose=1)"
      ]
     },
     "execution_count": 7,
     "metadata": {},
     "output_type": "execute_result"
    }
   ],
   "source": [
    "pipe_params = {\n",
    "    #'cvec__max_features': [ 50, 100, 200,500,800,1000],\n",
    "    'cvec__max_features': [1500, 2000, 2500],\n",
    "    'cvec__min_df': [2, 3],\n",
    "    'cvec__max_df': [.2, .5, .8],\n",
    "    'cvec__ngram_range': [(1,1),(1,2)],\n",
    "    'lr__penalty' :['l2'],  # ,'l1'\n",
    "    'lr__C':[0.1, 1, 10],\n",
    "}\n",
    "gs_cvlr = GridSearchCV(pipe1, param_grid=pipe_params, cv=3, n_jobs = -1, verbose = 1)\n",
    "gs_cvlr.fit(X_train, y_train)"
   ]
  },
  {
   "cell_type": "code",
   "execution_count": 8,
   "metadata": {
    "scrolled": true
   },
   "outputs": [
    {
     "name": "stdout",
     "output_type": "stream",
     "text": [
      "0.9652728561304039\n"
     ]
    },
    {
     "data": {
      "text/plain": [
       "{'cvec__max_df': 0.2,\n",
       " 'cvec__max_features': 2500,\n",
       " 'cvec__min_df': 3,\n",
       " 'cvec__ngram_range': (1, 1),\n",
       " 'lr__C': 0.1,\n",
       " 'lr__penalty': 'l2'}"
      ]
     },
     "execution_count": 8,
     "metadata": {},
     "output_type": "execute_result"
    }
   ],
   "source": [
    "print(gs_cvlr.best_score_)\n",
    "gs_cvlr.best_params_"
   ]
  },
  {
   "cell_type": "code",
   "execution_count": 9,
   "metadata": {},
   "outputs": [
    {
     "name": "stdout",
     "output_type": "stream",
     "text": [
      "Training score: 0.9992912827781715\n",
      "Testing score: 0.9532908704883227\n"
     ]
    }
   ],
   "source": [
    "print(\"Training score:\",gs_cvlr.score(X_train, y_train))\n",
    "print(\"Testing score:\" ,gs_cvlr.score(X_test, y_test))"
   ]
  },
  {
   "cell_type": "markdown",
   "metadata": {},
   "source": [
    "#### Score has improved and parameters seems to be rather optimized. "
   ]
  },
  {
   "cell_type": "markdown",
   "metadata": {},
   "source": [
    "#### Logistic Regression with TD-IDF Vectorizer\n",
    "- Tried to tune hyperparameters for logistic regression on top of TF-IF vectorizer and it has helped improve the variance of model's performance between seen and unseen data. "
   ]
  },
  {
   "cell_type": "code",
   "execution_count": 10,
   "metadata": {},
   "outputs": [
    {
     "name": "stdout",
     "output_type": "stream",
     "text": [
      "Fitting 3 folds for each of 144 candidates, totalling 432 fits\n"
     ]
    },
    {
     "name": "stderr",
     "output_type": "stream",
     "text": [
      "[Parallel(n_jobs=-1)]: Using backend LokyBackend with 4 concurrent workers.\n",
      "[Parallel(n_jobs=-1)]: Done  42 tasks      | elapsed:   23.5s\n",
      "[Parallel(n_jobs=-1)]: Done 192 tasks      | elapsed:  1.5min\n",
      "[Parallel(n_jobs=-1)]: Done 432 out of 432 | elapsed:  3.4min finished\n",
      "/Users/akhilajoseph/opt/anaconda3/lib/python3.7/site-packages/sklearn/linear_model/logistic.py:432: FutureWarning: Default solver will be changed to 'lbfgs' in 0.22. Specify a solver to silence this warning.\n",
      "  FutureWarning)\n"
     ]
    },
    {
     "data": {
      "text/plain": [
       "GridSearchCV(cv=3, error_score='raise-deprecating',\n",
       "             estimator=Pipeline(memory=None,\n",
       "                                steps=[('tvec',\n",
       "                                        TfidfVectorizer(analyzer='word',\n",
       "                                                        binary=False,\n",
       "                                                        decode_error='strict',\n",
       "                                                        dtype=<class 'numpy.float64'>,\n",
       "                                                        encoding='utf-8',\n",
       "                                                        input='content',\n",
       "                                                        lowercase=True,\n",
       "                                                        max_df=1.0,\n",
       "                                                        max_features=None,\n",
       "                                                        min_df=1,\n",
       "                                                        ngram_range=(1, 1),\n",
       "                                                        norm='l2',\n",
       "                                                        preprocessor=None,\n",
       "                                                        smooth_idf=True,\n",
       "                                                        stop_words...\n",
       "                                                           penalty='l2',\n",
       "                                                           random_state=None,\n",
       "                                                           solver='warn',\n",
       "                                                           tol=0.0001,\n",
       "                                                           verbose=0,\n",
       "                                                           warm_start=False))],\n",
       "                                verbose=False),\n",
       "             iid='warn', n_jobs=-1,\n",
       "             param_grid={'lr__C': [0.1, 1, 10], 'lr__penalty': ['l2', 'l1'],\n",
       "                         'tvec__max_df': [0.2, 0.25, 0.3],\n",
       "                         'tvec__max_features': [800, 1000, 1500, 2000],\n",
       "                         'tvec__min_df': [2, 3]},\n",
       "             pre_dispatch='2*n_jobs', refit=True, return_train_score=False,\n",
       "             scoring=None, verbose=1)"
      ]
     },
     "execution_count": 10,
     "metadata": {},
     "output_type": "execute_result"
    }
   ],
   "source": [
    "pipe2 = Pipeline([\n",
    "    (\"tvec\", TfidfVectorizer(stop_words = 'english')),\n",
    "    (\"lr\", LogisticRegression())\n",
    "    ])\n",
    "\n",
    "pipe_params = {\n",
    "    'tvec__max_features': [800,1000, 1500,2000],\n",
    "    'tvec__min_df': [2, 3],\n",
    "    'tvec__max_df': [.2, .25, .3],\n",
    "    'lr__penalty' :['l2','l1'],  \n",
    "    'lr__C':[0.1, 1, 10],\n",
    "}\n",
    "gs_tdlr = GridSearchCV(pipe2, param_grid=pipe_params, cv=3, n_jobs = -1, verbose = 1)\n",
    "gs_tdlr.fit(X_train, y_train)"
   ]
  },
  {
   "cell_type": "code",
   "execution_count": 11,
   "metadata": {},
   "outputs": [
    {
     "name": "stdout",
     "output_type": "stream",
     "text": [
      "0.9631467044649185\n"
     ]
    },
    {
     "data": {
      "text/plain": [
       "{'lr__C': 10,\n",
       " 'lr__penalty': 'l2',\n",
       " 'tvec__max_df': 0.3,\n",
       " 'tvec__max_features': 1500,\n",
       " 'tvec__min_df': 3}"
      ]
     },
     "execution_count": 11,
     "metadata": {},
     "output_type": "execute_result"
    }
   ],
   "source": [
    "print(gs_tdlr.best_score_)\n",
    "gs_tdlr.best_params_"
   ]
  },
  {
   "cell_type": "code",
   "execution_count": 12,
   "metadata": {
    "scrolled": false
   },
   "outputs": [
    {
     "name": "stdout",
     "output_type": "stream",
     "text": [
      "Training score: 0.9978738483345145\n",
      "Testing score: 0.9575371549893843\n"
     ]
    }
   ],
   "source": [
    "print('Training score:', gs_tdlr.score(X_train, y_train))\n",
    "print('Testing score:', gs_tdlr.score(X_test, y_test))"
   ]
  },
  {
   "cell_type": "code",
   "execution_count": 13,
   "metadata": {},
   "outputs": [
    {
     "data": {
      "text/plain": [
       "numpy.float64"
      ]
     },
     "execution_count": 13,
     "metadata": {},
     "output_type": "execute_result"
    }
   ],
   "source": [
    "type(gs_tdlr.score(X_train, y_train))"
   ]
  },
  {
   "cell_type": "markdown",
   "metadata": {},
   "source": [
    "### <p style=\"text-align: center;\"> Logistic Regression Scores Comparison with CVEC & TD-IDF</p>"
   ]
  },
  {
   "cell_type": "markdown",
   "metadata": {},
   "source": [
    "|Scores|CVEC + LR|TDIDF + LR\n",
    "|---|---|---|\n",
    "|Training score|0.999|0.998\n",
    "|Testing score|0.953|0.958\n",
    "|Variance|-0.046|-0.040"
   ]
  },
  {
   "cell_type": "markdown",
   "metadata": {},
   "source": [
    "### Multinomial Naive Bayes Model"
   ]
  },
  {
   "cell_type": "markdown",
   "metadata": {},
   "source": [
    "#### Naive Bayes with Count Vectorizer"
   ]
  },
  {
   "cell_type": "code",
   "execution_count": 14,
   "metadata": {},
   "outputs": [],
   "source": [
    "pipe3 = Pipeline([\n",
    "    (\"cvecn\", CountVectorizer(stop_words = 'english')),\n",
    "    (\"nb\", MultinomialNB())\n",
    "    ])"
   ]
  },
  {
   "cell_type": "code",
   "execution_count": 16,
   "metadata": {},
   "outputs": [
    {
     "name": "stdout",
     "output_type": "stream",
     "text": [
      "Fitting 3 folds for each of 48 candidates, totalling 144 fits\n"
     ]
    },
    {
     "name": "stderr",
     "output_type": "stream",
     "text": [
      "[Parallel(n_jobs=-1)]: Using backend LokyBackend with 4 concurrent workers.\n",
      "[Parallel(n_jobs=-1)]: Done  42 tasks      | elapsed:   42.6s\n",
      "[Parallel(n_jobs=-1)]: Done 144 out of 144 | elapsed:  2.3min finished\n"
     ]
    },
    {
     "data": {
      "text/plain": [
       "GridSearchCV(cv=3, error_score='raise-deprecating',\n",
       "             estimator=Pipeline(memory=None,\n",
       "                                steps=[('cvecn',\n",
       "                                        CountVectorizer(analyzer='word',\n",
       "                                                        binary=False,\n",
       "                                                        decode_error='strict',\n",
       "                                                        dtype=<class 'numpy.int64'>,\n",
       "                                                        encoding='utf-8',\n",
       "                                                        input='content',\n",
       "                                                        lowercase=True,\n",
       "                                                        max_df=1.0,\n",
       "                                                        max_features=None,\n",
       "                                                        min_df=1,\n",
       "                                                        ngram_range=(1, 1),\n",
       "                                                        preprocessor=None,\n",
       "                                                        stop_words='english',\n",
       "                                                        strip_accents=No...\n",
       "                                                        tokenizer=None,\n",
       "                                                        vocabulary=None)),\n",
       "                                       ('nb',\n",
       "                                        MultinomialNB(alpha=1.0,\n",
       "                                                      class_prior=None,\n",
       "                                                      fit_prior=True))],\n",
       "                                verbose=False),\n",
       "             iid='warn', n_jobs=-1,\n",
       "             param_grid={'cvecn__max_df': [0.2, 0.25, 0.5, 0.8],\n",
       "                         'cvecn__max_features': [500, 1000, 1500],\n",
       "                         'cvecn__min_df': [2, 3],\n",
       "                         'cvecn__ngram_range': [(1, 1), (1, 2)]},\n",
       "             pre_dispatch='2*n_jobs', refit=True, return_train_score=False,\n",
       "             scoring=None, verbose=1)"
      ]
     },
     "execution_count": 16,
     "metadata": {},
     "output_type": "execute_result"
    }
   ],
   "source": [
    "pipe_params = {\n",
    "    'cvecn__max_features': [500, 1000, 1500],\n",
    "    'cvecn__min_df': [2, 3],\n",
    "    'cvecn__max_df': [.2, .25, .5, .8],\n",
    "    'cvecn__ngram_range': [(1,1),(1,2)],\n",
    "}\n",
    "gs_cvnb = GridSearchCV(pipe3, param_grid=pipe_params, cv=3, n_jobs = -1, verbose = 1)\n",
    "gs_cvnb.fit(X_train, y_train)"
   ]
  },
  {
   "cell_type": "code",
   "execution_count": 17,
   "metadata": {},
   "outputs": [
    {
     "name": "stdout",
     "output_type": "stream",
     "text": [
      "0.9099929128277817\n"
     ]
    },
    {
     "data": {
      "text/plain": [
       "{'cvecn__max_df': 0.2,\n",
       " 'cvecn__max_features': 1500,\n",
       " 'cvecn__min_df': 3,\n",
       " 'cvecn__ngram_range': (1, 1)}"
      ]
     },
     "execution_count": 17,
     "metadata": {},
     "output_type": "execute_result"
    }
   ],
   "source": [
    "print(gs_cvnb.best_score_)\n",
    "gs_cvnb.best_params_"
   ]
  },
  {
   "cell_type": "code",
   "execution_count": 18,
   "metadata": {},
   "outputs": [
    {
     "name": "stdout",
     "output_type": "stream",
     "text": [
      "Training score:  0.9284195605953225\n",
      "Testing score:  0.9023354564755839\n"
     ]
    }
   ],
   "source": [
    "print('Training score: ',gs_cvnb.score(X_train, y_train))\n",
    "print('Testing score: ',gs_cvnb.score(X_test, y_test))"
   ]
  },
  {
   "cell_type": "markdown",
   "metadata": {},
   "source": [
    "#### Naive Bayes with TD-IDF Vectorizer"
   ]
  },
  {
   "cell_type": "code",
   "execution_count": 22,
   "metadata": {},
   "outputs": [
    {
     "name": "stdout",
     "output_type": "stream",
     "text": [
      "Fitting 3 folds for each of 18 candidates, totalling 54 fits\n"
     ]
    },
    {
     "name": "stderr",
     "output_type": "stream",
     "text": [
      "[Parallel(n_jobs=-1)]: Using backend LokyBackend with 4 concurrent workers.\n",
      "[Parallel(n_jobs=-1)]: Done  42 tasks      | elapsed:   20.3s\n",
      "[Parallel(n_jobs=-1)]: Done  54 out of  54 | elapsed:   25.1s finished\n"
     ]
    },
    {
     "data": {
      "text/plain": [
       "GridSearchCV(cv=3, error_score='raise-deprecating',\n",
       "             estimator=Pipeline(memory=None,\n",
       "                                steps=[('tvecn',\n",
       "                                        TfidfVectorizer(analyzer='word',\n",
       "                                                        binary=False,\n",
       "                                                        decode_error='strict',\n",
       "                                                        dtype=<class 'numpy.float64'>,\n",
       "                                                        encoding='utf-8',\n",
       "                                                        input='content',\n",
       "                                                        lowercase=True,\n",
       "                                                        max_df=1.0,\n",
       "                                                        max_features=None,\n",
       "                                                        min_df=1,\n",
       "                                                        ngram_range=(1, 1),\n",
       "                                                        norm='l2',\n",
       "                                                        preprocessor=None,\n",
       "                                                        smooth_idf=True,\n",
       "                                                        stop_word...\n",
       "                                                        token_pattern='(?u)\\\\b\\\\w\\\\w+\\\\b',\n",
       "                                                        tokenizer=None,\n",
       "                                                        use_idf=True,\n",
       "                                                        vocabulary=None)),\n",
       "                                       ('nb',\n",
       "                                        MultinomialNB(alpha=1.0,\n",
       "                                                      class_prior=None,\n",
       "                                                      fit_prior=True))],\n",
       "                                verbose=False),\n",
       "             iid='warn', n_jobs=-1,\n",
       "             param_grid={'tvecn__max_df': [0.2, 0.25, 0.3],\n",
       "                         'tvecn__max_features': [1000, 1500, 2000],\n",
       "                         'tvecn__min_df': [2, 3]},\n",
       "             pre_dispatch='2*n_jobs', refit=True, return_train_score=False,\n",
       "             scoring=None, verbose=1)"
      ]
     },
     "execution_count": 22,
     "metadata": {},
     "output_type": "execute_result"
    }
   ],
   "source": [
    "pipe4 = Pipeline([\n",
    "    (\"tvecn\", TfidfVectorizer(stop_words = 'english')),\n",
    "    (\"nb\", MultinomialNB())\n",
    "    ])\n",
    "\n",
    "pipe_params = {\n",
    "    'tvecn__max_features': [1000,1500,2000],  # 30, 60, 90, 100, 150, 200\n",
    "    'tvecn__min_df': [2, 3],\n",
    "    'tvecn__max_df': [.2, .25, .3],\n",
    "}\n",
    "gs_tdnb = GridSearchCV(pipe4, param_grid=pipe_params, cv=3, n_jobs = -1, verbose = 1)\n",
    "gs_tdnb.fit(X_train, y_train)"
   ]
  },
  {
   "cell_type": "code",
   "execution_count": 23,
   "metadata": {
    "scrolled": true
   },
   "outputs": [
    {
     "name": "stdout",
     "output_type": "stream",
     "text": [
      "0.9184975194897236\n"
     ]
    },
    {
     "data": {
      "text/plain": [
       "{'tvecn__max_df': 0.3, 'tvecn__max_features': 2000, 'tvecn__min_df': 2}"
      ]
     },
     "execution_count": 23,
     "metadata": {},
     "output_type": "execute_result"
    }
   ],
   "source": [
    "print(gs_tdnb.best_score_)\n",
    "gs_tdnb.best_params_"
   ]
  },
  {
   "cell_type": "code",
   "execution_count": 24,
   "metadata": {
    "scrolled": true
   },
   "outputs": [
    {
     "name": "stdout",
     "output_type": "stream",
     "text": [
      "Training score:  0.9503897944720057\n",
      "Testing score:  0.9129511677282378\n"
     ]
    }
   ],
   "source": [
    "print('Training score: ',gs_tdnb.score(X_train, y_train))\n",
    "print('Testing score: ',gs_tdnb.score(X_test, y_test))"
   ]
  },
  {
   "cell_type": "markdown",
   "metadata": {},
   "source": [
    "#### Tuning Multinomial Naive Bayes Model hyperparameters with TD-IDF Vectorization parameters to see if the scores improve"
   ]
  },
  {
   "cell_type": "code",
   "execution_count": 26,
   "metadata": {},
   "outputs": [
    {
     "name": "stdout",
     "output_type": "stream",
     "text": [
      "Fitting 3 folds for each of 216 candidates, totalling 648 fits\n"
     ]
    },
    {
     "name": "stderr",
     "output_type": "stream",
     "text": [
      "[Parallel(n_jobs=-1)]: Using backend LokyBackend with 4 concurrent workers.\n",
      "[Parallel(n_jobs=-1)]: Done  42 tasks      | elapsed:   23.5s\n",
      "[Parallel(n_jobs=-1)]: Done 192 tasks      | elapsed:  1.8min\n",
      "[Parallel(n_jobs=-1)]: Done 442 tasks      | elapsed:  4.0min\n",
      "[Parallel(n_jobs=-1)]: Done 648 out of 648 | elapsed:  5.4min finished\n"
     ]
    },
    {
     "data": {
      "text/plain": [
       "GridSearchCV(cv=3, error_score='raise-deprecating',\n",
       "             estimator=Pipeline(memory=None,\n",
       "                                steps=[('tvec1',\n",
       "                                        TfidfVectorizer(analyzer='word',\n",
       "                                                        binary=False,\n",
       "                                                        decode_error='strict',\n",
       "                                                        dtype=<class 'numpy.float64'>,\n",
       "                                                        encoding='utf-8',\n",
       "                                                        input='content',\n",
       "                                                        lowercase=True,\n",
       "                                                        max_df=1.0,\n",
       "                                                        max_features=None,\n",
       "                                                        min_df=1,\n",
       "                                                        ngram_range=(1, 1),\n",
       "                                                        norm='l2',\n",
       "                                                        preprocessor=None,\n",
       "                                                        smooth_idf=True,\n",
       "                                                        stop_word...\n",
       "                                        MultinomialNB(alpha=1.0,\n",
       "                                                      class_prior=None,\n",
       "                                                      fit_prior=True))],\n",
       "                                verbose=False),\n",
       "             iid='warn', n_jobs=-1,\n",
       "             param_grid={'mnb__alpha': array([0.5, 0.7, 0.9, 1.1, 1.3, 1.5]),\n",
       "                         'mnb__fit_prior': [True, False],\n",
       "                         'tvec1__max_df': [0.2, 0.25, 0.3],\n",
       "                         'tvec1__max_features': [1000, 1500, 2000],\n",
       "                         'tvec1__min_df': [2, 3]},\n",
       "             pre_dispatch='2*n_jobs', refit=True, return_train_score=False,\n",
       "             scoring=None, verbose=1)"
      ]
     },
     "execution_count": 26,
     "metadata": {},
     "output_type": "execute_result"
    }
   ],
   "source": [
    "# alternate method for tuning hyperparameter for Multinomial Naive Bayes\n",
    "pipe5 = Pipeline([\n",
    "    (\"tvec1\", TfidfVectorizer(stop_words = 'english')),\n",
    "    (\"mnb\", MultinomialNB())\n",
    "    ])\n",
    "\n",
    "pipe_params = {\n",
    "    'tvec1__max_features': [1000,1500,2000],\n",
    "    'tvec1__min_df': [2, 3],\n",
    "    'tvec1__max_df': [.2, .25, .3],\n",
    "    'mnb__alpha': np.linspace(0.5, 1.5, 6),\n",
    "    'mnb__fit_prior': [True, False], \n",
    "}\n",
    "gs_tdmnb = GridSearchCV(pipe5, param_grid=pipe_params, cv=3, n_jobs = -1, verbose = 1)\n",
    "gs_tdmnb.fit(X_train, y_train)"
   ]
  },
  {
   "cell_type": "code",
   "execution_count": 27,
   "metadata": {},
   "outputs": [
    {
     "name": "stdout",
     "output_type": "stream",
     "text": [
      "0.9227498228206945\n"
     ]
    },
    {
     "data": {
      "text/plain": [
       "{'mnb__alpha': 0.5,\n",
       " 'mnb__fit_prior': False,\n",
       " 'tvec1__max_df': 0.3,\n",
       " 'tvec1__max_features': 2000,\n",
       " 'tvec1__min_df': 2}"
      ]
     },
     "execution_count": 27,
     "metadata": {},
     "output_type": "execute_result"
    }
   ],
   "source": [
    "print(gs_tdmnb.best_score_)\n",
    "gs_tdmnb.best_params_"
   ]
  },
  {
   "cell_type": "code",
   "execution_count": 28,
   "metadata": {},
   "outputs": [
    {
     "name": "stdout",
     "output_type": "stream",
     "text": [
      "Training score:  0.9560595322466336\n",
      "Testing score:  0.9171974522292994\n"
     ]
    }
   ],
   "source": [
    "print('Training score: ',gs_tdmnb.score(X_train, y_train))\n",
    "print('Testing score: ',gs_tdmnb.score(X_test, y_test))"
   ]
  },
  {
   "cell_type": "markdown",
   "metadata": {},
   "source": [
    "#### The scores did not significantly improve with tuning hyperparameters. "
   ]
  },
  {
   "cell_type": "markdown",
   "metadata": {},
   "source": [
    "### <p style=\"text-align: center;\"> Multinomial Naive Bayes Scores Comparison with CVEC & TD-IDF</p>"
   ]
  },
  {
   "cell_type": "markdown",
   "metadata": {},
   "source": [
    "|Scores|CVEC + MultiNB|TDIDF + MultiNB\n",
    "|---|---|---\n",
    "|Training score|0.928|0.950\n",
    "|Testing score|0.902|0.913\n",
    "|Variance|-0.026|-0.037"
   ]
  },
  {
   "cell_type": "markdown",
   "metadata": {},
   "source": [
    "### <p style=\"text-align: center;\">Overall Comparison of Models</p>"
   ]
  },
  {
   "cell_type": "markdown",
   "metadata": {},
   "source": [
    "|Models|Train Score|Test Score|Variance\n",
    "|---|---|---|---\n",
    "|CVEC + LR|0.999|0.953|-0.046\n",
    "|TD-IDF + LR|0.998|0.958|-0.040\n",
    "|CVEC + MultiNB|0.928|0.902|-0.026\n",
    "|TD-IDF + MultiNB|0.950|0.913|-0.037"
   ]
  },
  {
   "cell_type": "markdown",
   "metadata": {},
   "source": [
    "### Selected Model : Logistic Regression with Count Vectorizer\n",
    "\n",
    "Based on the problem statement, the objective of the project is to classify accurately the subreddit a given post belongs to. The model then helps advertisers market their products and services applicable to the 2 subreddit members based on the nature of the posts within these subreddits.<br> \n",
    "In this scenario, accuracy remains a good measure as the false predictions do not play a significant part in determining the above. However, it is known that accuracy is a good measure when the following criteria is met: \n",
    "\n",
    "    1) Datasets are symmetric. In this case, the 2 datasets are symmetric as was indicated above. \n",
    "    2) The values of false positive and false negatives are almost same. This can be seen from the below \n",
    "    set of confusion matices. The false predictions (both negative and positive) are almost the same for \n",
    "    logistic regression with count vectorizer but not for logistic regression with TD-IDF. \n",
    "    \n",
    "Thus the model chosen is **Logistic Regression with Count Vectorizer** because of it's:\n",
    "\n",
    "    1) Accuracy score on test / unseen data\n",
    "    2) The false predictions (both positive and negative) are almost the same\n"
   ]
  },
  {
   "cell_type": "markdown",
   "metadata": {},
   "source": [
    "#### Confusion matrix"
   ]
  },
  {
   "cell_type": "code",
   "execution_count": 29,
   "metadata": {},
   "outputs": [],
   "source": [
    "def cmat_converter(y_test, preds):\n",
    "    cmatrix = confusion_matrix(y_test, preds)\n",
    "    print('Accuracy: {}'.format(accuracy_score(y_test, preds)))\n",
    "    print(classification_report(y_test, preds))\n",
    "    return pd.DataFrame(cmatrix, columns=['Predicted ' + str(i) for i in ['Nosleep','Thetruthishere']],\\\n",
    "            index=['Actual ' + str(i) for i in ['Nosleep','Thetruthishere']])"
   ]
  },
  {
   "cell_type": "code",
   "execution_count": 30,
   "metadata": {
    "scrolled": true
   },
   "outputs": [
    {
     "name": "stdout",
     "output_type": "stream",
     "text": [
      "Accuracy: 0.9532908704883227\n",
      "              precision    recall  f1-score   support\n",
      "\n",
      "           0       0.95      0.96      0.95       238\n",
      "           1       0.96      0.95      0.95       233\n",
      "\n",
      "    accuracy                           0.95       471\n",
      "   macro avg       0.95      0.95      0.95       471\n",
      "weighted avg       0.95      0.95      0.95       471\n",
      "\n"
     ]
    },
    {
     "data": {
      "text/html": [
       "<div>\n",
       "<style scoped>\n",
       "    .dataframe tbody tr th:only-of-type {\n",
       "        vertical-align: middle;\n",
       "    }\n",
       "\n",
       "    .dataframe tbody tr th {\n",
       "        vertical-align: top;\n",
       "    }\n",
       "\n",
       "    .dataframe thead th {\n",
       "        text-align: right;\n",
       "    }\n",
       "</style>\n",
       "<table border=\"1\" class=\"dataframe\">\n",
       "  <thead>\n",
       "    <tr style=\"text-align: right;\">\n",
       "      <th></th>\n",
       "      <th>Predicted Nosleep</th>\n",
       "      <th>Predicted Thetruthishere</th>\n",
       "    </tr>\n",
       "  </thead>\n",
       "  <tbody>\n",
       "    <tr>\n",
       "      <th>Actual Nosleep</th>\n",
       "      <td>228</td>\n",
       "      <td>10</td>\n",
       "    </tr>\n",
       "    <tr>\n",
       "      <th>Actual Thetruthishere</th>\n",
       "      <td>12</td>\n",
       "      <td>221</td>\n",
       "    </tr>\n",
       "  </tbody>\n",
       "</table>\n",
       "</div>"
      ],
      "text/plain": [
       "                       Predicted Nosleep  Predicted Thetruthishere\n",
       "Actual Nosleep                       228                        10\n",
       "Actual Thetruthishere                 12                       221"
      ]
     },
     "execution_count": 30,
     "metadata": {},
     "output_type": "execute_result"
    }
   ],
   "source": [
    "predicts = gs_cvlr.predict(X_test)\n",
    "cmat_converter(y_test, predicts)"
   ]
  },
  {
   "cell_type": "code",
   "execution_count": 31,
   "metadata": {
    "scrolled": true
   },
   "outputs": [
    {
     "name": "stdout",
     "output_type": "stream",
     "text": [
      "Accuracy: 0.9575371549893843\n",
      "              precision    recall  f1-score   support\n",
      "\n",
      "           0       0.94      0.98      0.96       238\n",
      "           1       0.98      0.93      0.96       233\n",
      "\n",
      "    accuracy                           0.96       471\n",
      "   macro avg       0.96      0.96      0.96       471\n",
      "weighted avg       0.96      0.96      0.96       471\n",
      "\n"
     ]
    },
    {
     "data": {
      "text/html": [
       "<div>\n",
       "<style scoped>\n",
       "    .dataframe tbody tr th:only-of-type {\n",
       "        vertical-align: middle;\n",
       "    }\n",
       "\n",
       "    .dataframe tbody tr th {\n",
       "        vertical-align: top;\n",
       "    }\n",
       "\n",
       "    .dataframe thead th {\n",
       "        text-align: right;\n",
       "    }\n",
       "</style>\n",
       "<table border=\"1\" class=\"dataframe\">\n",
       "  <thead>\n",
       "    <tr style=\"text-align: right;\">\n",
       "      <th></th>\n",
       "      <th>Predicted Nosleep</th>\n",
       "      <th>Predicted Thetruthishere</th>\n",
       "    </tr>\n",
       "  </thead>\n",
       "  <tbody>\n",
       "    <tr>\n",
       "      <th>Actual Nosleep</th>\n",
       "      <td>234</td>\n",
       "      <td>4</td>\n",
       "    </tr>\n",
       "    <tr>\n",
       "      <th>Actual Thetruthishere</th>\n",
       "      <td>16</td>\n",
       "      <td>217</td>\n",
       "    </tr>\n",
       "  </tbody>\n",
       "</table>\n",
       "</div>"
      ],
      "text/plain": [
       "                       Predicted Nosleep  Predicted Thetruthishere\n",
       "Actual Nosleep                       234                         4\n",
       "Actual Thetruthishere                 16                       217"
      ]
     },
     "execution_count": 31,
     "metadata": {},
     "output_type": "execute_result"
    }
   ],
   "source": [
    "predicts_td = gs_tdlr.predict(X_test)\n",
    "cmat_converter(y_test, predicts_td)"
   ]
  },
  {
   "cell_type": "code",
   "execution_count": 32,
   "metadata": {
    "scrolled": true
   },
   "outputs": [
    {
     "name": "stdout",
     "output_type": "stream",
     "text": [
      "Accuracy: 0.9532908704883227\n",
      "              precision    recall  f1-score   support\n",
      "\n",
      "           0       0.95      0.96      0.95       238\n",
      "           1       0.96      0.95      0.95       233\n",
      "\n",
      "    accuracy                           0.95       471\n",
      "   macro avg       0.95      0.95      0.95       471\n",
      "weighted avg       0.95      0.95      0.95       471\n",
      "\n"
     ]
    },
    {
     "data": {
      "text/html": [
       "<div>\n",
       "<style scoped>\n",
       "    .dataframe tbody tr th:only-of-type {\n",
       "        vertical-align: middle;\n",
       "    }\n",
       "\n",
       "    .dataframe tbody tr th {\n",
       "        vertical-align: top;\n",
       "    }\n",
       "\n",
       "    .dataframe thead th {\n",
       "        text-align: right;\n",
       "    }\n",
       "</style>\n",
       "<table border=\"1\" class=\"dataframe\">\n",
       "  <thead>\n",
       "    <tr style=\"text-align: right;\">\n",
       "      <th></th>\n",
       "      <th>Predicted Nosleep</th>\n",
       "      <th>Predicted Thetruthishere</th>\n",
       "    </tr>\n",
       "  </thead>\n",
       "  <tbody>\n",
       "    <tr>\n",
       "      <th>Actual Nosleep</th>\n",
       "      <td>228</td>\n",
       "      <td>10</td>\n",
       "    </tr>\n",
       "    <tr>\n",
       "      <th>Actual Thetruthishere</th>\n",
       "      <td>12</td>\n",
       "      <td>221</td>\n",
       "    </tr>\n",
       "  </tbody>\n",
       "</table>\n",
       "</div>"
      ],
      "text/plain": [
       "                       Predicted Nosleep  Predicted Thetruthishere\n",
       "Actual Nosleep                       228                        10\n",
       "Actual Thetruthishere                 12                       221"
      ]
     },
     "execution_count": 32,
     "metadata": {},
     "output_type": "execute_result"
    }
   ],
   "source": [
    "predicts_cvnb = gs_cvnb.predict(X_test)\n",
    "cmat_converter(y_test, predicts)"
   ]
  },
  {
   "cell_type": "code",
   "execution_count": 33,
   "metadata": {},
   "outputs": [
    {
     "name": "stdout",
     "output_type": "stream",
     "text": [
      "Accuracy: 0.9532908704883227\n",
      "              precision    recall  f1-score   support\n",
      "\n",
      "           0       0.95      0.96      0.95       238\n",
      "           1       0.96      0.95      0.95       233\n",
      "\n",
      "    accuracy                           0.95       471\n",
      "   macro avg       0.95      0.95      0.95       471\n",
      "weighted avg       0.95      0.95      0.95       471\n",
      "\n"
     ]
    },
    {
     "data": {
      "text/html": [
       "<div>\n",
       "<style scoped>\n",
       "    .dataframe tbody tr th:only-of-type {\n",
       "        vertical-align: middle;\n",
       "    }\n",
       "\n",
       "    .dataframe tbody tr th {\n",
       "        vertical-align: top;\n",
       "    }\n",
       "\n",
       "    .dataframe thead th {\n",
       "        text-align: right;\n",
       "    }\n",
       "</style>\n",
       "<table border=\"1\" class=\"dataframe\">\n",
       "  <thead>\n",
       "    <tr style=\"text-align: right;\">\n",
       "      <th></th>\n",
       "      <th>Predicted Nosleep</th>\n",
       "      <th>Predicted Thetruthishere</th>\n",
       "    </tr>\n",
       "  </thead>\n",
       "  <tbody>\n",
       "    <tr>\n",
       "      <th>Actual Nosleep</th>\n",
       "      <td>228</td>\n",
       "      <td>10</td>\n",
       "    </tr>\n",
       "    <tr>\n",
       "      <th>Actual Thetruthishere</th>\n",
       "      <td>12</td>\n",
       "      <td>221</td>\n",
       "    </tr>\n",
       "  </tbody>\n",
       "</table>\n",
       "</div>"
      ],
      "text/plain": [
       "                       Predicted Nosleep  Predicted Thetruthishere\n",
       "Actual Nosleep                       228                        10\n",
       "Actual Thetruthishere                 12                       221"
      ]
     },
     "execution_count": 33,
     "metadata": {},
     "output_type": "execute_result"
    }
   ],
   "source": [
    "predicts_cvnb = gs_tdnb.predict(X_test)\n",
    "cmat_converter(y_test, predicts)"
   ]
  },
  {
   "cell_type": "markdown",
   "metadata": {},
   "source": [
    "#### Plotting and inspecting ROC Curve & AUC for the different models to check for significant variations from conclusions made above. \n",
    "\n",
    "    1) It represents the degree or measure of separability of the model into the 2 classes and is an important \n",
    "    metric in classification problems. \n",
    "    2) Higher the AUC, the better the model is at distinguishing between the 2 subreddits in this case.\n",
    "    \n",
    "**The AUC score for the selected model is also the highest in comparison to the rest of the models.***"
   ]
  },
  {
   "cell_type": "code",
   "execution_count": 119,
   "metadata": {},
   "outputs": [],
   "source": [
    "# function created to plot ROC curves and determine AUC\n",
    "def plot_ROC(model, model_name):\n",
    "    ns_probs = [0 for _ in range(len(y_test))]\n",
    "\n",
    "    # predict probabilities\n",
    "    model_probs = model.predict_proba(X_test)\n",
    "    # keep probabilities for the positive outcome only\n",
    "    model_probs = model_probs[:, 1]\n",
    "    # calculate scores\n",
    "    ns_auc = roc_auc_score(y_test, ns_probs)\n",
    "    model_auc = roc_auc_score(y_test, model_probs)\n",
    "    # summarize scores\n",
    "    print('No Skill: ROC AUC=%.3f' % (ns_auc))\n",
    "    print('Model: ROC AUC=%.3f' % (model_auc))\n",
    "    # calculate roc curves\n",
    "    ns_fpr, ns_tpr, _ = roc_curve(y_test, ns_probs)\n",
    "    lr_fpr, lr_tpr, _ = roc_curve(y_test, model_probs)\n",
    "    # plot the roc curve for the model\n",
    "    plt.plot(ns_fpr, ns_tpr, linestyle='--',color = 'skyblue' ,label='No Skill')\n",
    "    plt.plot(lr_fpr, lr_tpr, marker='.',color = 'orange' ,label= model_name)\n",
    "\n",
    "    plt.text(.1, .9, \"AUC: %.2f\" % model_auc, horizontalalignment='left', fontsize = 10,color='black')\n",
    "    # axis labels\n",
    "    plt.title(model_name, weight= 'bold')\n",
    "    plt.xlabel('False Positive Rate')\n",
    "    plt.ylabel('True Positive Rate')\n",
    "    # show the legend\n",
    "    plt.legend()\n",
    "    # show the plot\n",
    "    plt.show()"
   ]
  },
  {
   "cell_type": "code",
   "execution_count": 120,
   "metadata": {
    "scrolled": true
   },
   "outputs": [
    {
     "name": "stdout",
     "output_type": "stream",
     "text": [
      "No Skill: ROC AUC=0.500\n",
      "Model: ROC AUC=0.985\n"
     ]
    },
    {
     "data": {
      "image/png": "[encoded data removed]",
      "text/plain": [
       "<Figure size 432x288 with 1 Axes>"
      ]
     },
     "metadata": {
      "image/png": {
       "height": 277,
       "width": 385
      },
      "needs_background": "light"
     },
     "output_type": "display_data"
    }
   ],
   "source": [
    "plot_ROC(gs_cvlr,'Logistic with CVEC')"
   ]
  },
  {
   "cell_type": "code",
   "execution_count": 1,
   "metadata": {
    "scrolled": true
   },
   "outputs": [
    {
     "ename": "NameError",
     "evalue": "name 'plot_ROC' is not defined",
     "output_type": "error",
     "traceback": [
      "\u001b[0;31m---------------------------------------------------------------------------\u001b[0m",
      "\u001b[0;31mNameError\u001b[0m                                 Traceback (most recent call last)",
      "\u001b[0;32m<ipython-input-1-3b30744a7ee2>\u001b[0m in \u001b[0;36m<module>\u001b[0;34m\u001b[0m\n\u001b[0;32m----> 1\u001b[0;31m \u001b[0mplot_ROC\u001b[0m\u001b[0;34m(\u001b[0m\u001b[0mgs_tdlr\u001b[0m\u001b[0;34m,\u001b[0m\u001b[0;34m'Logistic with TD-IDF'\u001b[0m\u001b[0;34m)\u001b[0m\u001b[0;34m\u001b[0m\u001b[0;34m\u001b[0m\u001b[0m\n\u001b[0m",
      "\u001b[0;31mNameError\u001b[0m: name 'plot_ROC' is not defined"
     ]
    }
   ],
   "source": [
    "plot_ROC(gs_tdlr,'Logistic with TD-IDF')"
   ]
  },
  {
   "cell_type": "code",
   "execution_count": 122,
   "metadata": {},
   "outputs": [
    {
     "name": "stdout",
     "output_type": "stream",
     "text": [
      "No Skill: ROC AUC=0.500\n",
      "Model: ROC AUC=0.954\n"
     ]
    },
    {
     "data": {
      "image/png": "[encoded data removed]",
      "text/plain": [
       "<Figure size 432x288 with 1 Axes>"
      ]
     },
     "metadata": {
      "image/png": {
       "height": 277,
       "width": 385
      },
      "needs_background": "light"
     },
     "output_type": "display_data"
    }
   ],
   "source": [
    "plot_ROC(gs_cvnb,'Naive Bayes with CVEC')"
   ]
  },
  {
   "cell_type": "code",
   "execution_count": 123,
   "metadata": {
    "scrolled": true
   },
   "outputs": [
    {
     "name": "stdout",
     "output_type": "stream",
     "text": [
      "No Skill: ROC AUC=0.500\n",
      "Model: ROC AUC=0.973\n"
     ]
    },
    {
     "data": {
      "image/png": "[encoded data removed]",
      "text/plain": [
       "<Figure size 432x288 with 1 Axes>"
      ]
     },
     "metadata": {
      "image/png": {
       "height": 277,
       "width": 385
      },
      "needs_background": "light"
     },
     "output_type": "display_data"
    }
   ],
   "source": [
    "plot_ROC(gs_tdnb,'Naive Bayes with TD-IDF')"
   ]
  },
  {
   "cell_type": "markdown",
   "metadata": {},
   "source": [
    "## Data Analysis post modelling\n",
    "\n",
    "    1) Identifying words that appears in the corpus most number of times.\n",
    "    2) Splitting and looking for word/term frequencies by subreddit - interesting to note that there are words \n",
    "    with high frequencies common to both subreddit. \n",
    "    3) Examine the coefficients of features/ words to determine predictive words per subreddit. "
   ]
  },
  {
   "cell_type": "code",
   "execution_count": 136,
   "metadata": {},
   "outputs": [],
   "source": [
    "cvec_optim = CountVectorizer(stop_words = 'english', max_df = 0.2, max_features = 2500, min_df = 3, ngram_range= [1,1])\n",
    "\n",
    "X_train_cvec = cvec_optim.fit_transform(X_train).todense()"
   ]
  },
  {
   "cell_type": "code",
   "execution_count": 137,
   "metadata": {},
   "outputs": [],
   "source": [
    "df = pd.DataFrame(X_train_cvec, columns = cvec_optim.get_feature_names())"
   ]
  },
  {
   "cell_type": "code",
   "execution_count": 138,
   "metadata": {},
   "outputs": [],
   "source": [
    "# find out how many times each word appear in the corpus by creating a 'Total' row at the end of the dataframe:\n",
    "df.loc['Total Count',:]= df.sum(axis=0)\n",
    "df.loc['Total Count',:].sort_values(ascending=False)\n",
    "df = pd.DataFrame(df.loc['Total Count',:].sort_values(ascending=False))"
   ]
  },
  {
   "cell_type": "code",
   "execution_count": 139,
   "metadata": {
    "scrolled": false
   },
   "outputs": [
    {
     "data": {
      "text/html": [
       "<div>\n",
       "<style scoped>\n",
       "    .dataframe tbody tr th:only-of-type {\n",
       "        vertical-align: middle;\n",
       "    }\n",
       "\n",
       "    .dataframe tbody tr th {\n",
       "        vertical-align: top;\n",
       "    }\n",
       "\n",
       "    .dataframe thead th {\n",
       "        text-align: right;\n",
       "    }\n",
       "</style>\n",
       "<table border=\"1\" class=\"dataframe\">\n",
       "  <thead>\n",
       "    <tr style=\"text-align: right;\">\n",
       "      <th></th>\n",
       "      <th>Total Count</th>\n",
       "    </tr>\n",
       "  </thead>\n",
       "  <tbody>\n",
       "    <tr>\n",
       "      <th>amp</th>\n",
       "      <td>2006.0</td>\n",
       "    </tr>\n",
       "    <tr>\n",
       "      <th>dad</th>\n",
       "      <td>989.0</td>\n",
       "    </tr>\n",
       "    <tr>\n",
       "      <th>father</th>\n",
       "      <td>962.0</td>\n",
       "    </tr>\n",
       "    <tr>\n",
       "      <th>mom</th>\n",
       "      <td>878.0</td>\n",
       "    </tr>\n",
       "    <tr>\n",
       "      <th>water</th>\n",
       "      <td>731.0</td>\n",
       "    </tr>\n",
       "    <tr>\n",
       "      <th>mother</th>\n",
       "      <td>686.0</td>\n",
       "    </tr>\n",
       "    <tr>\n",
       "      <th>girl</th>\n",
       "      <td>644.0</td>\n",
       "    </tr>\n",
       "    <tr>\n",
       "      <th>tree</th>\n",
       "      <td>642.0</td>\n",
       "    </tr>\n",
       "    <tr>\n",
       "      <th>dog</th>\n",
       "      <td>640.0</td>\n",
       "    </tr>\n",
       "    <tr>\n",
       "      <th>hotel</th>\n",
       "      <td>592.0</td>\n",
       "    </tr>\n",
       "    <tr>\n",
       "      <th>boy</th>\n",
       "      <td>583.0</td>\n",
       "    </tr>\n",
       "    <tr>\n",
       "      <th>parent</th>\n",
       "      <td>577.0</td>\n",
       "    </tr>\n",
       "    <tr>\n",
       "      <th>step</th>\n",
       "      <td>576.0</td>\n",
       "    </tr>\n",
       "    <tr>\n",
       "      <th>shit</th>\n",
       "      <td>575.0</td>\n",
       "    </tr>\n",
       "    <tr>\n",
       "      <th>red</th>\n",
       "      <td>572.0</td>\n",
       "    </tr>\n",
       "    <tr>\n",
       "      <th>creature</th>\n",
       "      <td>570.0</td>\n",
       "    </tr>\n",
       "    <tr>\n",
       "      <th>brother</th>\n",
       "      <td>567.0</td>\n",
       "    </tr>\n",
       "    <tr>\n",
       "      <th>fuck</th>\n",
       "      <td>559.0</td>\n",
       "    </tr>\n",
       "    <tr>\n",
       "      <th>pain</th>\n",
       "      <td>555.0</td>\n",
       "    </tr>\n",
       "    <tr>\n",
       "      <th>school</th>\n",
       "      <td>551.0</td>\n",
       "    </tr>\n",
       "  </tbody>\n",
       "</table>\n",
       "</div>"
      ],
      "text/plain": [
       "          Total Count\n",
       "amp            2006.0\n",
       "dad             989.0\n",
       "father          962.0\n",
       "mom             878.0\n",
       "water           731.0\n",
       "mother          686.0\n",
       "girl            644.0\n",
       "tree            642.0\n",
       "dog             640.0\n",
       "hotel           592.0\n",
       "boy             583.0\n",
       "parent          577.0\n",
       "step            576.0\n",
       "shit            575.0\n",
       "red             572.0\n",
       "creature        570.0\n",
       "brother         567.0\n",
       "fuck            559.0\n",
       "pain            555.0\n",
       "school          551.0"
      ]
     },
     "execution_count": 139,
     "metadata": {},
     "output_type": "execute_result"
    }
   ],
   "source": [
    "df.head(20)"
   ]
  },
  {
   "cell_type": "code",
   "execution_count": 140,
   "metadata": {},
   "outputs": [
    {
     "data": {
      "text/plain": [
       "21"
      ]
     },
     "execution_count": 140,
     "metadata": {},
     "output_type": "execute_result"
    }
   ],
   "source": [
    "# check for number of words with frequency\n",
    "df = df[df['Total Count'] > 550]\n",
    "len(df)"
   ]
  },
  {
   "cell_type": "code",
   "execution_count": 141,
   "metadata": {
    "scrolled": false
   },
   "outputs": [
    {
     "data": {
      "image/png": "[encoded data removed]",
      "text/plain": [
       "<Figure size 1152x432 with 1 Axes>"
      ]
     },
     "metadata": {
      "image/png": {
       "height": 400,
       "width": 953
      },
      "needs_background": "light"
     },
     "output_type": "display_data"
    }
   ],
   "source": [
    "# plot word frequency chart\n",
    "fig_dims = (16, 6)\n",
    "fig, ax = plt.subplots(figsize=fig_dims)\n",
    "fig.suptitle('Word Frequency', fontsize = 16, weight = 'bold')\n",
    "\n",
    "sns.barplot(x = df.index, y = df['Total Count']);"
   ]
  },
  {
   "cell_type": "code",
   "execution_count": 142,
   "metadata": {
    "scrolled": false
   },
   "outputs": [
    {
     "data": {
      "image/png": "[encoded data removed]",
      "text/plain": [
       "<Figure size 1080x432 with 2 Axes>"
      ]
     },
     "metadata": {
      "image/png": {
       "height": 416,
       "width": 901
      },
      "needs_background": "light"
     },
     "output_type": "display_data"
    }
   ],
   "source": [
    "def term_frequency_plot(y = 'subreddit', X_columns = 'feature_var'):  \n",
    "    # Pick feature_var column to vectorize\n",
    "    X2 = finaldf['feature_var']\n",
    "\n",
    "    # Convert vectorized matrix to dataframe\n",
    "    vect_df = pd.DataFrame(cvec_optim.fit_transform(X2).todense(), columns = cvec_optim.get_feature_names())\n",
    "\n",
    "    # Add the target/ subreddit values to vectorized df\n",
    "    vect_df.insert(0, 'subreddit_class', finaldf['target'])\n",
    "    \n",
    "    # taking the indices of columns in df\n",
    "    t_cols = vect_df['subreddit_class'].value_counts().index\n",
    "\n",
    "    # Get the mean values and transpose \n",
    "    meanfreq_df = vect_df.groupby('subreddit_class').mean().T\n",
    "\n",
    "    # Create a figure with 2 plots for each subreddit\n",
    "    top_n = 15\n",
    "    fig, ax = plt.subplots(nrows = 1, ncols = 2, figsize = (15,6), squeeze = False)\n",
    "\n",
    "    fig.suptitle('Term Frequency by Subreddits', fontsize = 16, weight = 'bold')\n",
    "\n",
    "    # Plot the scatter of the predicted versus actual\n",
    "    for k, col in enumerate(t_cols):\n",
    "        if k == 0:\n",
    "            i = 0\n",
    "            j = 0\n",
    "            label = 'Nosleep'\n",
    "        elif k == 1:\n",
    "            i = 0\n",
    "            j = 1\n",
    "            label = 'Thetruthishere'\n",
    "        ax[i][j] = sns.barplot(\n",
    "            y = meanfreq_df.sort_values(by = t_cols[k], ascending = False)[t_cols[k]][:top_n].index, \n",
    "            x = meanfreq_df.sort_values(by = t_cols[k], ascending = False)[t_cols[k]][:top_n].values,\n",
    "            ax = ax[i][j])\n",
    "        ax[i][j].set_title('Subreddit: ' + label, fontsize = 14, weight = 'bold')\n",
    "        ax[i][j].set_xlabel('Mean term frequency', fontsize = 12)\n",
    "        ax[i][j].tick_params(axis=\"y\", labelsize = 10)\n",
    "\n",
    "term_frequency_plot(y = 'subreddit', X_columns = 'feature_var');"
   ]
  },
  {
   "cell_type": "code",
   "execution_count": 143,
   "metadata": {
    "scrolled": false
   },
   "outputs": [
    {
     "data": {
      "text/html": [
       "<div>\n",
       "<style scoped>\n",
       "    .dataframe tbody tr th:only-of-type {\n",
       "        vertical-align: middle;\n",
       "    }\n",
       "\n",
       "    .dataframe tbody tr th {\n",
       "        vertical-align: top;\n",
       "    }\n",
       "\n",
       "    .dataframe thead th {\n",
       "        text-align: right;\n",
       "    }\n",
       "</style>\n",
       "<table border=\"1\" class=\"dataframe\">\n",
       "  <thead>\n",
       "    <tr style=\"text-align: right;\">\n",
       "      <th></th>\n",
       "      <th>ngram</th>\n",
       "      <th>coef</th>\n",
       "    </tr>\n",
       "  </thead>\n",
       "  <tbody>\n",
       "    <tr>\n",
       "      <th>1596</th>\n",
       "      <td>police</td>\n",
       "      <td>-0.313797</td>\n",
       "    </tr>\n",
       "    <tr>\n",
       "      <th>1859</th>\n",
       "      <td>scream</td>\n",
       "      <td>-0.305763</td>\n",
       "    </tr>\n",
       "    <tr>\n",
       "      <th>1240</th>\n",
       "      <td>leg</td>\n",
       "      <td>-0.274361</td>\n",
       "    </tr>\n",
       "    <tr>\n",
       "      <th>840</th>\n",
       "      <td>food</td>\n",
       "      <td>-0.271986</td>\n",
       "    </tr>\n",
       "    <tr>\n",
       "      <th>982</th>\n",
       "      <td>guide</td>\n",
       "      <td>-0.267418</td>\n",
       "    </tr>\n",
       "    <tr>\n",
       "      <th>...</th>\n",
       "      <td>...</td>\n",
       "      <td>...</td>\n",
       "    </tr>\n",
       "    <tr>\n",
       "      <th>2142</th>\n",
       "      <td>stuff</td>\n",
       "      <td>0.262863</td>\n",
       "    </tr>\n",
       "    <tr>\n",
       "      <th>1609</th>\n",
       "      <td>post</td>\n",
       "      <td>0.289119</td>\n",
       "    </tr>\n",
       "    <tr>\n",
       "      <th>739</th>\n",
       "      <td>experienced</td>\n",
       "      <td>0.289300</td>\n",
       "    </tr>\n",
       "    <tr>\n",
       "      <th>1962</th>\n",
       "      <td>similar</td>\n",
       "      <td>0.308664</td>\n",
       "    </tr>\n",
       "    <tr>\n",
       "      <th>1513</th>\n",
       "      <td>paranormal</td>\n",
       "      <td>0.318260</td>\n",
       "    </tr>\n",
       "  </tbody>\n",
       "</table>\n",
       "<p>2500 rows × 2 columns</p>\n",
       "</div>"
      ],
      "text/plain": [
       "            ngram      coef\n",
       "1596       police -0.313797\n",
       "1859       scream -0.305763\n",
       "1240          leg -0.274361\n",
       "840          food -0.271986\n",
       "982         guide -0.267418\n",
       "...           ...       ...\n",
       "2142        stuff  0.262863\n",
       "1609         post  0.289119\n",
       "739   experienced  0.289300\n",
       "1962      similar  0.308664\n",
       "1513   paranormal  0.318260\n",
       "\n",
       "[2500 rows x 2 columns]"
      ]
     },
     "execution_count": 143,
     "metadata": {},
     "output_type": "execute_result"
    }
   ],
   "source": [
    "# checking the coefficient values of words from the chosen model - LR with Count Vectorizer\n",
    "coefs = pd.DataFrame(gs_cvlr.best_estimator_.steps[1][1].coef_).T\n",
    "coefs.columns = ['coef']\n",
    "# getting the words/ feature names\n",
    "coefs['ngram'] = gs_cvlr.best_estimator_.steps[0][1].get_feature_names()\n",
    "coefs = coefs[['ngram','coef']]\n",
    "coefs = coefs.sort_values('coef')\n",
    "coefs"
   ]
  },
  {
   "cell_type": "code",
   "execution_count": 144,
   "metadata": {
    "scrolled": true
   },
   "outputs": [
    {
     "data": {
      "text/html": [
       "<div>\n",
       "<style scoped>\n",
       "    .dataframe tbody tr th:only-of-type {\n",
       "        vertical-align: middle;\n",
       "    }\n",
       "\n",
       "    .dataframe tbody tr th {\n",
       "        vertical-align: top;\n",
       "    }\n",
       "\n",
       "    .dataframe thead th {\n",
       "        text-align: right;\n",
       "    }\n",
       "</style>\n",
       "<table border=\"1\" class=\"dataframe\">\n",
       "  <thead>\n",
       "    <tr style=\"text-align: right;\">\n",
       "      <th></th>\n",
       "      <th>ngram</th>\n",
       "      <th>coef</th>\n",
       "    </tr>\n",
       "  </thead>\n",
       "  <tbody>\n",
       "    <tr>\n",
       "      <th>2142</th>\n",
       "      <td>stuff</td>\n",
       "      <td>0.262863</td>\n",
       "    </tr>\n",
       "    <tr>\n",
       "      <th>1609</th>\n",
       "      <td>post</td>\n",
       "      <td>0.289119</td>\n",
       "    </tr>\n",
       "    <tr>\n",
       "      <th>739</th>\n",
       "      <td>experienced</td>\n",
       "      <td>0.289300</td>\n",
       "    </tr>\n",
       "    <tr>\n",
       "      <th>1962</th>\n",
       "      <td>similar</td>\n",
       "      <td>0.308664</td>\n",
       "    </tr>\n",
       "    <tr>\n",
       "      <th>1513</th>\n",
       "      <td>paranormal</td>\n",
       "      <td>0.318260</td>\n",
       "    </tr>\n",
       "  </tbody>\n",
       "</table>\n",
       "</div>"
      ],
      "text/plain": [
       "            ngram      coef\n",
       "2142        stuff  0.262863\n",
       "1609         post  0.289119\n",
       "739   experienced  0.289300\n",
       "1962      similar  0.308664\n",
       "1513   paranormal  0.318260"
      ]
     },
     "execution_count": 144,
     "metadata": {},
     "output_type": "execute_result"
    }
   ],
   "source": [
    "coefs_imp = coefs.sort_values(by = 'coef').head(10).append(coefs.sort_values(by = 'coef').tail(10))\n",
    "coefs_imp.tail()"
   ]
  },
  {
   "cell_type": "code",
   "execution_count": 145,
   "metadata": {
    "scrolled": false
   },
   "outputs": [
    {
     "data": {
      "image/png": "[encoded data removed]",
      "text/plain": [
       "<Figure size 576x432 with 1 Axes>"
      ]
     },
     "metadata": {
      "image/png": {
       "height": 376,
       "width": 548
      },
      "needs_background": "light"
     },
     "output_type": "display_data"
    }
   ],
   "source": [
    "# plotting the above coefficients for easier visualization\n",
    "%config InlineBackend.figure_format = 'retina'\n",
    "# plt.figure(figsize = (10,8))\n",
    "coefs_imp.plot(x = 'ngram',y= 'coef', kind = \"barh\", color = 'darkblue')\n",
    "\n",
    "plt.ylabel('Features', size = 14)\n",
    "plt.gcf().set_size_inches(8, 6)\n",
    "# ax = plt.gca()\n",
    "ax.tick_params(axis = 'y', labelsize = 10)\n",
    "plt.title(\"Predictive Words\", size = 18,weight = 'bold')\n",
    "\n",
    "plt.show()"
   ]
  },
  {
   "cell_type": "markdown",
   "metadata": {},
   "source": [
    "## Conclusions"
   ]
  },
  {
   "cell_type": "markdown",
   "metadata": {},
   "source": [
    "    1) The first thing we can do is to look at the regression coefficients for every word or n-gram, sorted negative \n",
    "    to positive. \n",
    "    2) In this model, we have assigned 'Nosleep' comments to class 0 and Thetruthishere comments to class 1. So \n",
    "    the words or n-grams with the strongest positive coefficients in our model are the words or n-grams that are \n",
    "    most predictive of Truthishere/ True stories (they push the outcome towards 1 the most). \n",
    "    3) And the words or n-grams with the strongest negative coefficients are the most predictive of \n",
    "    Nosleep/ fictional stories (they push the outcome toward 0). \n",
    "    4) Moreover, the words with the most influential coefficients either positive or negative don't just \n",
    "    represent the words that are most likely to appear in posts within a given subreddit. \n",
    "    5) They are also unlikely to appear in posts of the other subreddit. In short, the model is looking for words \n",
    "    and n-grams that are highly frequent in one subreddit relative to the other.\n",
    "    6) These predictive words can be potentially employed in targeted marketing campaigns to improve the \n",
    "    “click- rate” of a particular ad to the target subreddit member. "
   ]
  },
  {
   "cell_type": "markdown",
   "metadata": {},
   "source": [
    "## Limitations and Recommendations\n",
    "\n",
    "    1) The analysis and modeling is based on ~1000 posts per subreddit which may not be a good representation of \n",
    "    the subreddit itself.\n",
    "    2) Comments were not scraped or included in modeling. \n",
    "    3) The hyper-parameters of the model has been tuned to include features/ words as many as 1500 to reduce \n",
    "    the variance between testing and training scores\n",
    "    4) But in reality, it may make sense to reduce the number of words\n",
    "    5) The model can be further enhanced :\n",
    "        - To eliminate synonyms, post agnostic words, common words like paranormal\n",
    "        - To include phrases instead of just words for prediction.\n",
    "        - To include comments as part of post for analysis and modeling. \n"
   ]
  },
  {
   "cell_type": "code",
   "execution_count": null,
   "metadata": {},
   "outputs": [],
   "source": []
  }
 ],
 "metadata": {
  "kernelspec": {
   "display_name": "Python 3",
   "language": "python",
   "name": "python3"
  },
  "language_info": {
   "codemirror_mode": {
    "name": "ipython",
    "version": 3
   },
   "file_extension": ".py",
   "mimetype": "text/x-python",
   "name": "python",
   "nbconvert_exporter": "python",
   "pygments_lexer": "ipython3",
   "version": "3.7.4"
  }
 },
 "nbformat": 4,
 "nbformat_minor": 2
}
